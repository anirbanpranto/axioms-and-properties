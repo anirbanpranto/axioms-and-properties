{
 "cells": [
  {
   "cell_type": "markdown",
   "metadata": {},
   "source": [
    "# Bitwise XOR\n",
    "1. If xor of an array is 0, there exists a prefix whose suffix == prefix\n",
    "2. If suffix is x then xor of the suffixes are x"
   ]
  },
  {
   "cell_type": "markdown",
   "metadata": {},
   "source": [
    "# Lexicographically Smaller\n",
    "1. $a_1 + a_2 + a_3$ is lexicographically smaller than $b_1 + b_2 + b_3$ if there's an index $i$ for which $a_i<b_i$ and all previous indexes are equal."
   ]
  },
  {
   "cell_type": "markdown",
   "metadata": {},
   "source": [
    "# Combinatorics\n",
    "1. $$\\binom{n}{k} = \\frac{n!}{k!(n-k)!}$$ means the number of $k$ elements we can choose from set of $n$ things\n",
    "2. $$\\sum_{x=1}^{n} x = \\frac{n(n+1)}{2}$$ sum of numbers $1..n$\n",
    "3. Sum of odd number of odd numbers is an odd number\n",
    "4. $$\\binom{n}{0} + \\binom{n}{1} + ... +\\binom{n}{n} = 2^n$$\n",
    "5. $$\\binom{n}{1} + \\binom{n}{2} + ... +\\binom{n}{n} = 2^n - 1$$\n",
    "6. $$\\binom{n}{1} + \\binom{n}{2} + ... +\\binom{n}{n-1} = 2^n - 2$$\n",
    "7. $$\\binom{n}{k} = \\binom{n}{n-k}$$\n",
    "8. Permutation of $n$ things taken $r$ at a time $$p(n,r) = \\frac{n!}{(n-r)!}$$"
   ]
  },
  {
   "cell_type": "markdown",
   "metadata": {},
   "source": [
    "# Mathematical Induction\n",
    "You can prove a conjecture for all $n$ using mathematical induction.\n",
    "\n",
    "* **Steps** :\n",
    "1. First show that the conjecture is true for some case $n$\n",
    "2. Then find the value of the $k^{th}$ iteration of the problem\n",
    "3. Then prove it for $(k+1)$"
   ]
  }
 ],
 "metadata": {
  "kernelspec": {
   "display_name": "Python 3",
   "language": "python",
   "name": "python3"
  },
  "language_info": {
   "codemirror_mode": {
    "name": "ipython",
    "version": 3
   },
   "file_extension": ".py",
   "mimetype": "text/x-python",
   "name": "python",
   "nbconvert_exporter": "python",
   "pygments_lexer": "ipython3",
   "version": "3.8.5"
  }
 },
 "nbformat": 4,
 "nbformat_minor": 4
}
